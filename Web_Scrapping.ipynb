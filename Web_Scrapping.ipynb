{
  "nbformat": 4,
  "nbformat_minor": 0,
  "metadata": {
    "colab": {
      "name": "Web Scrapping.ipynb",
      "provenance": [],
      "collapsed_sections": [],
      "mount_file_id": "1CiNjox-9oPGPm04oO7VSKeyWlddgUVUv",
      "authorship_tag": "ABX9TyOipNDBXQylfPvIyesHy0Gy",
      "include_colab_link": true
    },
    "kernelspec": {
      "name": "python3",
      "display_name": "Python 3"
    },
    "language_info": {
      "name": "python"
    }
  },
  "cells": [
    {
      "cell_type": "markdown",
      "metadata": {
        "id": "view-in-github",
        "colab_type": "text"
      },
      "source": [
        "<a href=\"https://colab.research.google.com/github/fahimabrar/Data-Scientist-Jobs-in-UK/blob/main/Web_Scrapping.ipynb\" target=\"_parent\"><img src=\"https://colab.research.google.com/assets/colab-badge.svg\" alt=\"Open In Colab\"/></a>"
      ]
    },
    {
      "cell_type": "code",
      "metadata": {
        "colab": {
          "base_uri": "https://localhost:8080/"
        },
        "id": "lpJTeE31ej5Z",
        "outputId": "485ccbe1-73e5-4d5e-ac39-d6366b63c845"
      },
      "source": [
        "!pip install beautifulsoup"
      ],
      "execution_count": null,
      "outputs": [
        {
          "output_type": "stream",
          "name": "stdout",
          "text": [
            "Collecting beautifulsoup\n",
            "  Downloading BeautifulSoup-3.2.2.tar.gz (32 kB)\n",
            "\u001b[33mWARNING: Discarding https://files.pythonhosted.org/packages/40/f2/6c9f2f3e696ee6a1fb0e4d7850617e224ed2b0b1e872110abffeca2a09d4/BeautifulSoup-3.2.2.tar.gz#sha256=a04169602bff6e3138b1259dbbf491f5a27f9499dea9a8fbafd48843f9d89970 (from https://pypi.org/simple/beautifulsoup/). Command errored out with exit status 1: python setup.py egg_info Check the logs for full command output.\u001b[0m\n",
            "  Downloading BeautifulSoup-3.2.1.tar.gz (31 kB)\n",
            "\u001b[33mWARNING: Discarding https://files.pythonhosted.org/packages/1e/ee/295988deca1a5a7accd783d0dfe14524867e31abb05b6c0eeceee49c759d/BeautifulSoup-3.2.1.tar.gz#sha256=6a8cb4401111e011b579c8c52a51cdab970041cc543814bbd9577a4529fe1cdb (from https://pypi.org/simple/beautifulsoup/). Command errored out with exit status 1: python setup.py egg_info Check the logs for full command output.\u001b[0m\n",
            "  Downloading BeautifulSoup-3.2.0.tar.gz (31 kB)\n",
            "\u001b[33mWARNING: Discarding https://files.pythonhosted.org/packages/33/fe/15326560884f20d792d3ffc7fe8f639aab88647c9d46509a240d9bfbb6b1/BeautifulSoup-3.2.0.tar.gz#sha256=0dc52d07516c1665c9dd9f0a390a7a054bfb7b147a50b2866fb116b8909dfd37 (from https://pypi.org/simple/beautifulsoup/). Command errored out with exit status 1: python setup.py egg_info Check the logs for full command output.\u001b[0m\n",
            "\u001b[31mERROR: Could not find a version that satisfies the requirement beautifulsoup (from versions: 3.2.0, 3.2.1, 3.2.2)\u001b[0m\n",
            "\u001b[31mERROR: No matching distribution found for beautifulsoup\u001b[0m\n"
          ]
        }
      ]
    },
    {
      "cell_type": "code",
      "metadata": {
        "id": "gC6VZMB4eoxG"
      },
      "source": [
        "from bs4 import BeautifulSoup\n",
        "import requests as re"
      ],
      "execution_count": null,
      "outputs": []
    },
    {
      "cell_type": "code",
      "metadata": {
        "id": "qmc-ET1riKEr"
      },
      "source": [
        "urls = []"
      ],
      "execution_count": null,
      "outputs": []
    },
    {
      "cell_type": "code",
      "metadata": {
        "id": "LIO48GRbe5D4"
      },
      "source": [
        "for i in range(1, 50):\n",
        "  html_content = re.get(\"https://www.reed.co.uk/jobs/data-scientist-jobs?pageno=\"+str(i)).content\n",
        "  soup = BeautifulSoup(html_content)\n",
        "  a = soup.find_all(\"a\", {\"class\": \"job-block-link\"})\n",
        "  for j in range(len(a)):\n",
        "    urls.append(\"https://www.reed.co.uk\"+a[j]['href'])\n"
      ],
      "execution_count": null,
      "outputs": []
    },
    {
      "cell_type": "code",
      "metadata": {
        "colab": {
          "base_uri": "https://localhost:8080/",
          "height": 36
        },
        "id": "WtqkCeaAkz8X",
        "outputId": "77c20c43-3d85-4afe-fbe1-e205198102a3"
      },
      "source": [
        "urls[0]"
      ],
      "execution_count": null,
      "outputs": [
        {
          "output_type": "execute_result",
          "data": {
            "application/vnd.google.colaboratory.intrinsic+json": {
              "type": "string"
            },
            "text/plain": [
              "'https://www.reed.co.uk/jobs/data-scientist/44537904?source=searchResults&filter=%2fjobs%2fdata-scientist-jobs'"
            ]
          },
          "metadata": {},
          "execution_count": 28
        }
      ]
    },
    {
      "cell_type": "code",
      "metadata": {
        "colab": {
          "base_uri": "https://localhost:8080/"
        },
        "id": "rVxLVXOulYCg",
        "outputId": "57f9fe74-edcd-4d3f-cd45-2bd01775b0ce"
      },
      "source": [
        "len(urls)"
      ],
      "execution_count": null,
      "outputs": [
        {
          "output_type": "execute_result",
          "data": {
            "text/plain": [
              "1025"
            ]
          },
          "metadata": {},
          "execution_count": 29
        }
      ]
    },
    {
      "cell_type": "markdown",
      "metadata": {
        "id": "akctUVAC0kpJ"
      },
      "source": [
        "# Data Collection............"
      ]
    },
    {
      "cell_type": "code",
      "metadata": {
        "id": "UCy-bRDn0lQ0"
      },
      "source": [
        "import pandas as pd\n",
        "import numpy as np\n",
        "data = pd.DataFrame(columns = [\"jobtitle\",  \"salary\", \"locality\", \"region\", \"jobtype\", \"description\", \"url\"])"
      ],
      "execution_count": null,
      "outputs": []
    },
    {
      "cell_type": "code",
      "metadata": {
        "id": "htOLAQGfnBAh"
      },
      "source": [
        "for i in range(len(urls)):\n",
        "  try:\n",
        "    url = urls[i]\n",
        "    html_content = re.get(url).content\n",
        "    soup = BeautifulSoup(html_content)\n",
        "\n",
        "    try:\n",
        "      jobtitle = soup.h1.text\n",
        "    except:\n",
        "      jobtitle = np.nan\n",
        "\n",
        "    try:\n",
        "      company_name = soup.find(\"span\", {\"itemprop\":\"name\"}).text\n",
        "    except:\n",
        "      company_name = np.nan\n",
        "\n",
        "    try:\n",
        "      salary = soup.find(\"span\", {\"data-qa\":\"salaryLbl\"}).text\n",
        "    except:\n",
        "      salary = np.nan\n",
        "\n",
        "    try:\n",
        "      locality = soup.find(\"span\", {\"data-qa\":\"localityLbl\"}).text\n",
        "    except:\n",
        "      locality  = np.nan\n",
        "\n",
        "    try: \n",
        "      region =  soup.find(\"span\", {\"data-qa\":\"regionLbl\"}).text\n",
        "    except:\n",
        "      region  = np.nan\n",
        "\n",
        "    try:  \n",
        "      jobtype = \"\".join(soup.find(\"span\", {\"data-qa\":\"jobTypeLbl\"}).text.split())\n",
        "    except:\n",
        "      jobtype = np.nan\n",
        "\n",
        "    try:\n",
        "      description = \" \".join(soup.find(\"div\", {\"class\":\"description\"}).text.split())\n",
        "    except:\n",
        "      description = np.nan\n",
        "\n",
        "    data = data.append({\"jobtitle\":jobtitle,\"salary\":salary, \"locality\":locality, \"region\":region, \"jobtype\":jobtype, \"description\":description, \"url\":url}, ignore_index=True)\n",
        "\n",
        "    print(i)\n",
        "\n",
        "  except:\n",
        "    pass\n"
      ],
      "execution_count": null,
      "outputs": []
    },
    {
      "cell_type": "code",
      "metadata": {
        "colab": {
          "base_uri": "https://localhost:8080/",
          "height": 206
        },
        "id": "nYpZqEZN6D_h",
        "outputId": "5fbeca3a-dd16-47f3-fbf1-c6157dcbf67b"
      },
      "source": [
        "data.head()"
      ],
      "execution_count": null,
      "outputs": [
        {
          "output_type": "execute_result",
          "data": {
            "text/html": [
              "<div>\n",
              "<style scoped>\n",
              "    .dataframe tbody tr th:only-of-type {\n",
              "        vertical-align: middle;\n",
              "    }\n",
              "\n",
              "    .dataframe tbody tr th {\n",
              "        vertical-align: top;\n",
              "    }\n",
              "\n",
              "    .dataframe thead th {\n",
              "        text-align: right;\n",
              "    }\n",
              "</style>\n",
              "<table border=\"1\" class=\"dataframe\">\n",
              "  <thead>\n",
              "    <tr style=\"text-align: right;\">\n",
              "      <th></th>\n",
              "      <th>jobtitle</th>\n",
              "      <th>salary</th>\n",
              "      <th>locality</th>\n",
              "      <th>region</th>\n",
              "      <th>jobtype</th>\n",
              "      <th>description</th>\n",
              "      <th>url</th>\n",
              "    </tr>\n",
              "  </thead>\n",
              "  <tbody>\n",
              "    <tr>\n",
              "      <th>0</th>\n",
              "      <td>Data Scientist</td>\n",
              "      <td>Competitive salary</td>\n",
              "      <td>South East England</td>\n",
              "      <td>London</td>\n",
              "      <td>Contract,full-time</td>\n",
              "      <td>Apply on employer's website Data Scientist-12 ...</td>\n",
              "      <td>https://www.reed.co.uk/jobs/data-scientist/445...</td>\n",
              "    </tr>\n",
              "    <tr>\n",
              "      <th>1</th>\n",
              "      <td>Data Scientist</td>\n",
              "      <td>NaN</td>\n",
              "      <td>Surrey</td>\n",
              "      <td>Croydon</td>\n",
              "      <td>Permanent,full-time</td>\n",
              "      <td>NaN</td>\n",
              "      <td>https://www.reed.co.uk/jobs/data-scientist/447...</td>\n",
              "    </tr>\n",
              "    <tr>\n",
              "      <th>2</th>\n",
              "      <td>Data Scientist</td>\n",
              "      <td>£60,000 - £65,000 per annum</td>\n",
              "      <td>Ireland</td>\n",
              "      <td>Dublin</td>\n",
              "      <td>Permanent,full-time</td>\n",
              "      <td>Apply now Data Scientist Dublin, Ireland - ful...</td>\n",
              "      <td>https://www.reed.co.uk/jobs/data-scientist/444...</td>\n",
              "    </tr>\n",
              "    <tr>\n",
              "      <th>3</th>\n",
              "      <td>Data Scientist</td>\n",
              "      <td>£50,000 - £65,000 per annum</td>\n",
              "      <td>Lancashire</td>\n",
              "      <td>Manchester</td>\n",
              "      <td>Permanent,full-time</td>\n",
              "      <td>Apply now Senior Data Scientist Data Idols are...</td>\n",
              "      <td>https://www.reed.co.uk/jobs/data-scientist/446...</td>\n",
              "    </tr>\n",
              "    <tr>\n",
              "      <th>4</th>\n",
              "      <td>Data Scientist</td>\n",
              "      <td>£17.28 - £20.74 per hour</td>\n",
              "      <td>Warwickshire</td>\n",
              "      <td>Leamington Spa</td>\n",
              "      <td>Contract,full-time</td>\n",
              "      <td>Apply now Role: Data ScientistLocation: Leamin...</td>\n",
              "      <td>https://www.reed.co.uk/jobs/data-scientist/447...</td>\n",
              "    </tr>\n",
              "  </tbody>\n",
              "</table>\n",
              "</div>"
            ],
            "text/plain": [
              "          jobtitle  ...                                                url\n",
              "0   Data Scientist  ...  https://www.reed.co.uk/jobs/data-scientist/445...\n",
              "1   Data Scientist  ...  https://www.reed.co.uk/jobs/data-scientist/447...\n",
              "2   Data Scientist  ...  https://www.reed.co.uk/jobs/data-scientist/444...\n",
              "3   Data Scientist  ...  https://www.reed.co.uk/jobs/data-scientist/446...\n",
              "4  Data Scientist   ...  https://www.reed.co.uk/jobs/data-scientist/447...\n",
              "\n",
              "[5 rows x 7 columns]"
            ]
          },
          "metadata": {},
          "execution_count": 127
        }
      ]
    },
    {
      "cell_type": "code",
      "metadata": {
        "colab": {
          "base_uri": "https://localhost:8080/"
        },
        "id": "iERhoFou6FvZ",
        "outputId": "3f531e59-8498-4bef-9f33-8bc6022f80ba"
      },
      "source": [
        "data.info()"
      ],
      "execution_count": null,
      "outputs": [
        {
          "output_type": "stream",
          "name": "stdout",
          "text": [
            "<class 'pandas.core.frame.DataFrame'>\n",
            "RangeIndex: 1025 entries, 0 to 1024\n",
            "Data columns (total 7 columns):\n",
            " #   Column       Non-Null Count  Dtype \n",
            "---  ------       --------------  ----- \n",
            " 0   jobtitle     1025 non-null   object\n",
            " 1   salary       964 non-null    object\n",
            " 2   locality     1025 non-null   object\n",
            " 3   region       1021 non-null   object\n",
            " 4   jobtype      1025 non-null   object\n",
            " 5   description  964 non-null    object\n",
            " 6   url          1025 non-null   object\n",
            "dtypes: object(7)\n",
            "memory usage: 56.2+ KB\n"
          ]
        }
      ]
    },
    {
      "cell_type": "code",
      "metadata": {
        "id": "vwXpDoZi6aJg"
      },
      "source": [
        "data.to_csv(\"/content/drive/My Drive/ds_data.csv\")"
      ],
      "execution_count": null,
      "outputs": []
    }
  ]
}