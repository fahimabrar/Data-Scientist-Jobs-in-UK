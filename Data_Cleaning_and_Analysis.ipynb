{
  "nbformat": 4,
  "nbformat_minor": 0,
  "metadata": {
    "colab": {
      "name": "Data Cleaning and Analysis.ipynb",
      "provenance": [],
      "collapsed_sections": [],
      "authorship_tag": "ABX9TyOBbYmEVwmw/SLrM5qCeimY",
      "include_colab_link": true
    },
    "kernelspec": {
      "name": "python3",
      "display_name": "Python 3"
    },
    "language_info": {
      "name": "python"
    }
  },
  "cells": [
    {
      "cell_type": "markdown",
      "metadata": {
        "id": "view-in-github",
        "colab_type": "text"
      },
      "source": [
        "<a href=\"https://colab.research.google.com/github/fahimabrar/Data-Scientist-Jobs-in-UK/blob/main/Data_Cleaning_and_Analysis.ipynb\" target=\"_parent\"><img src=\"https://colab.research.google.com/assets/colab-badge.svg\" alt=\"Open In Colab\"/></a>"
      ]
    },
    {
      "cell_type": "code",
      "metadata": {
        "id": "-adrnTMMR_AY"
      },
      "source": [
        "import pandas as pd\n",
        "import numpy as np"
      ],
      "execution_count": 7,
      "outputs": []
    },
    {
      "cell_type": "code",
      "metadata": {
        "id": "sP3zndpuO1pu"
      },
      "source": [
        "data = pd.DataFrame(pd.read_csv(\"https://raw.githubusercontent.com/fahimabrar/Data-Scientist-Jobs-in-UK/main/data/ds_data.csv\"))"
      ],
      "execution_count": 3,
      "outputs": []
    },
    {
      "cell_type": "code",
      "metadata": {
        "colab": {
          "base_uri": "https://localhost:8080/",
          "height": 206
        },
        "id": "jcTEdguHSgzd",
        "outputId": "f6514e44-e05a-41e5-b05d-a1521cdb4f45"
      },
      "source": [
        "data.head()"
      ],
      "execution_count": 4,
      "outputs": [
        {
          "output_type": "execute_result",
          "data": {
            "text/html": [
              "<div>\n",
              "<style scoped>\n",
              "    .dataframe tbody tr th:only-of-type {\n",
              "        vertical-align: middle;\n",
              "    }\n",
              "\n",
              "    .dataframe tbody tr th {\n",
              "        vertical-align: top;\n",
              "    }\n",
              "\n",
              "    .dataframe thead th {\n",
              "        text-align: right;\n",
              "    }\n",
              "</style>\n",
              "<table border=\"1\" class=\"dataframe\">\n",
              "  <thead>\n",
              "    <tr style=\"text-align: right;\">\n",
              "      <th></th>\n",
              "      <th>Unnamed: 0</th>\n",
              "      <th>jobtitle</th>\n",
              "      <th>salary</th>\n",
              "      <th>locality</th>\n",
              "      <th>region</th>\n",
              "      <th>jobtype</th>\n",
              "      <th>description</th>\n",
              "      <th>url</th>\n",
              "    </tr>\n",
              "  </thead>\n",
              "  <tbody>\n",
              "    <tr>\n",
              "      <th>0</th>\n",
              "      <td>0</td>\n",
              "      <td>Data Scientist</td>\n",
              "      <td>Competitive salary</td>\n",
              "      <td>South East England</td>\n",
              "      <td>London</td>\n",
              "      <td>Contract,full-time</td>\n",
              "      <td>Apply on employer's website Data Scientist-12 ...</td>\n",
              "      <td>https://www.reed.co.uk/jobs/data-scientist/445...</td>\n",
              "    </tr>\n",
              "    <tr>\n",
              "      <th>1</th>\n",
              "      <td>1</td>\n",
              "      <td>Data Scientist</td>\n",
              "      <td>NaN</td>\n",
              "      <td>Surrey</td>\n",
              "      <td>Croydon</td>\n",
              "      <td>Permanent,full-time</td>\n",
              "      <td>NaN</td>\n",
              "      <td>https://www.reed.co.uk/jobs/data-scientist/447...</td>\n",
              "    </tr>\n",
              "    <tr>\n",
              "      <th>2</th>\n",
              "      <td>2</td>\n",
              "      <td>Data Scientist</td>\n",
              "      <td>£60,000 - £65,000 per annum</td>\n",
              "      <td>Ireland</td>\n",
              "      <td>Dublin</td>\n",
              "      <td>Permanent,full-time</td>\n",
              "      <td>Apply now Data Scientist Dublin, Ireland - ful...</td>\n",
              "      <td>https://www.reed.co.uk/jobs/data-scientist/444...</td>\n",
              "    </tr>\n",
              "    <tr>\n",
              "      <th>3</th>\n",
              "      <td>3</td>\n",
              "      <td>Data Scientist</td>\n",
              "      <td>£50,000 - £65,000 per annum</td>\n",
              "      <td>Lancashire</td>\n",
              "      <td>Manchester</td>\n",
              "      <td>Permanent,full-time</td>\n",
              "      <td>Apply now Senior Data Scientist Data Idols are...</td>\n",
              "      <td>https://www.reed.co.uk/jobs/data-scientist/446...</td>\n",
              "    </tr>\n",
              "    <tr>\n",
              "      <th>4</th>\n",
              "      <td>4</td>\n",
              "      <td>Data Scientist</td>\n",
              "      <td>£17.28 - £20.74 per hour</td>\n",
              "      <td>Warwickshire</td>\n",
              "      <td>Leamington Spa</td>\n",
              "      <td>Contract,full-time</td>\n",
              "      <td>Apply now Role: Data ScientistLocation: Leamin...</td>\n",
              "      <td>https://www.reed.co.uk/jobs/data-scientist/447...</td>\n",
              "    </tr>\n",
              "  </tbody>\n",
              "</table>\n",
              "</div>"
            ],
            "text/plain": [
              "   Unnamed: 0  ...                                                url\n",
              "0           0  ...  https://www.reed.co.uk/jobs/data-scientist/445...\n",
              "1           1  ...  https://www.reed.co.uk/jobs/data-scientist/447...\n",
              "2           2  ...  https://www.reed.co.uk/jobs/data-scientist/444...\n",
              "3           3  ...  https://www.reed.co.uk/jobs/data-scientist/446...\n",
              "4           4  ...  https://www.reed.co.uk/jobs/data-scientist/447...\n",
              "\n",
              "[5 rows x 8 columns]"
            ]
          },
          "metadata": {},
          "execution_count": 4
        }
      ]
    },
    {
      "cell_type": "code",
      "metadata": {
        "id": "QisC6-kLP9GR"
      },
      "source": [
        "data.jobtitle.value_counts()"
      ],
      "execution_count": null,
      "outputs": []
    },
    {
      "cell_type": "code",
      "metadata": {
        "id": "wqqf5Z3TSfuC"
      },
      "source": [
        "da"
      ],
      "execution_count": null,
      "outputs": []
    },
    {
      "cell_type": "code",
      "metadata": {
        "id": "y-081oDgQAvy"
      },
      "source": [
        "data.region.value_counts()"
      ],
      "execution_count": null,
      "outputs": []
    },
    {
      "cell_type": "markdown",
      "metadata": {
        "id": "knCRTphUSmS2"
      },
      "source": [
        "## The salary columns looks not lice, Lets clean the numeric values from **£60,000 - £65,000 per annum**\t to **60,000-65000**"
      ]
    },
    {
      "cell_type": "code",
      "metadata": {
        "id": "NMP_cz8dQAzJ"
      },
      "source": [
        "import re\n",
        "\n",
        "\n",
        "def salary(salary):\n",
        "  try:\n",
        "    x = re.sub(\"[^\\d\\.\\-]\", \"\", salary)\n",
        "    if x== '':\n",
        "      x = salary\n",
        "    return x\n",
        "  except:\n",
        "    return np.nan"
      ],
      "execution_count": 8,
      "outputs": []
    },
    {
      "cell_type": "code",
      "metadata": {
        "id": "RUDMTRbXQA4E"
      },
      "source": [
        "data[\"salary\"] = data[\"salary\"].apply(salary)"
      ],
      "execution_count": 9,
      "outputs": []
    },
    {
      "cell_type": "code",
      "metadata": {
        "colab": {
          "base_uri": "https://localhost:8080/",
          "height": 206
        },
        "id": "fUnuFEZfQA8f",
        "outputId": "cc70480b-1424-499c-9a2e-9e03d19784c8"
      },
      "source": [
        "data.head()"
      ],
      "execution_count": 10,
      "outputs": [
        {
          "output_type": "execute_result",
          "data": {
            "text/html": [
              "<div>\n",
              "<style scoped>\n",
              "    .dataframe tbody tr th:only-of-type {\n",
              "        vertical-align: middle;\n",
              "    }\n",
              "\n",
              "    .dataframe tbody tr th {\n",
              "        vertical-align: top;\n",
              "    }\n",
              "\n",
              "    .dataframe thead th {\n",
              "        text-align: right;\n",
              "    }\n",
              "</style>\n",
              "<table border=\"1\" class=\"dataframe\">\n",
              "  <thead>\n",
              "    <tr style=\"text-align: right;\">\n",
              "      <th></th>\n",
              "      <th>Unnamed: 0</th>\n",
              "      <th>jobtitle</th>\n",
              "      <th>salary</th>\n",
              "      <th>locality</th>\n",
              "      <th>region</th>\n",
              "      <th>jobtype</th>\n",
              "      <th>description</th>\n",
              "      <th>url</th>\n",
              "    </tr>\n",
              "  </thead>\n",
              "  <tbody>\n",
              "    <tr>\n",
              "      <th>0</th>\n",
              "      <td>0</td>\n",
              "      <td>Data Scientist</td>\n",
              "      <td>Competitive salary</td>\n",
              "      <td>South East England</td>\n",
              "      <td>London</td>\n",
              "      <td>Contract,full-time</td>\n",
              "      <td>Apply on employer's website Data Scientist-12 ...</td>\n",
              "      <td>https://www.reed.co.uk/jobs/data-scientist/445...</td>\n",
              "    </tr>\n",
              "    <tr>\n",
              "      <th>1</th>\n",
              "      <td>1</td>\n",
              "      <td>Data Scientist</td>\n",
              "      <td>NaN</td>\n",
              "      <td>Surrey</td>\n",
              "      <td>Croydon</td>\n",
              "      <td>Permanent,full-time</td>\n",
              "      <td>NaN</td>\n",
              "      <td>https://www.reed.co.uk/jobs/data-scientist/447...</td>\n",
              "    </tr>\n",
              "    <tr>\n",
              "      <th>2</th>\n",
              "      <td>2</td>\n",
              "      <td>Data Scientist</td>\n",
              "      <td>60000-65000</td>\n",
              "      <td>Ireland</td>\n",
              "      <td>Dublin</td>\n",
              "      <td>Permanent,full-time</td>\n",
              "      <td>Apply now Data Scientist Dublin, Ireland - ful...</td>\n",
              "      <td>https://www.reed.co.uk/jobs/data-scientist/444...</td>\n",
              "    </tr>\n",
              "    <tr>\n",
              "      <th>3</th>\n",
              "      <td>3</td>\n",
              "      <td>Data Scientist</td>\n",
              "      <td>50000-65000</td>\n",
              "      <td>Lancashire</td>\n",
              "      <td>Manchester</td>\n",
              "      <td>Permanent,full-time</td>\n",
              "      <td>Apply now Senior Data Scientist Data Idols are...</td>\n",
              "      <td>https://www.reed.co.uk/jobs/data-scientist/446...</td>\n",
              "    </tr>\n",
              "    <tr>\n",
              "      <th>4</th>\n",
              "      <td>4</td>\n",
              "      <td>Data Scientist</td>\n",
              "      <td>17.28-20.74</td>\n",
              "      <td>Warwickshire</td>\n",
              "      <td>Leamington Spa</td>\n",
              "      <td>Contract,full-time</td>\n",
              "      <td>Apply now Role: Data ScientistLocation: Leamin...</td>\n",
              "      <td>https://www.reed.co.uk/jobs/data-scientist/447...</td>\n",
              "    </tr>\n",
              "  </tbody>\n",
              "</table>\n",
              "</div>"
            ],
            "text/plain": [
              "   Unnamed: 0  ...                                                url\n",
              "0           0  ...  https://www.reed.co.uk/jobs/data-scientist/445...\n",
              "1           1  ...  https://www.reed.co.uk/jobs/data-scientist/447...\n",
              "2           2  ...  https://www.reed.co.uk/jobs/data-scientist/444...\n",
              "3           3  ...  https://www.reed.co.uk/jobs/data-scientist/446...\n",
              "4           4  ...  https://www.reed.co.uk/jobs/data-scientist/447...\n",
              "\n",
              "[5 rows x 8 columns]"
            ]
          },
          "metadata": {},
          "execution_count": 10
        }
      ]
    },
    {
      "cell_type": "markdown",
      "metadata": {
        "id": "KRLBWSFkT0Od"
      },
      "source": [
        "# Lets see where thejobs are most located"
      ]
    },
    {
      "cell_type": "code",
      "metadata": {
        "colab": {
          "base_uri": "https://localhost:8080/"
        },
        "id": "8nSDLl7FT5Kb",
        "outputId": "d81ecf10-72d2-455f-e147-085ea13887d0"
      },
      "source": [
        "data.region.value_counts()"
      ],
      "execution_count": 15,
      "outputs": [
        {
          "output_type": "execute_result",
          "data": {
            "text/plain": [
              "London            499\n",
              "Croydon            40\n",
              "Manchester         36\n",
              "Cambridge          21\n",
              "Leamington Spa     20\n",
              "                 ... \n",
              "Middlesbrough       1\n",
              "Corsham             1\n",
              "Edgbaston           1\n",
              "Aberdeen            1\n",
              "Worcester           1\n",
              "Name: region, Length: 179, dtype: int64"
            ]
          },
          "metadata": {},
          "execution_count": 15
        }
      ]
    },
    {
      "cell_type": "markdown",
      "metadata": {
        "id": "CXhSTbbJUF4s"
      },
      "source": [
        "# Amost half of the job region in London"
      ]
    },
    {
      "cell_type": "code",
      "metadata": {
        "id": "oUtX4OxBUEHN"
      },
      "source": [
        ""
      ],
      "execution_count": null,
      "outputs": []
    },
    {
      "cell_type": "markdown",
      "metadata": {
        "id": "ilVSLcKFTL5k"
      },
      "source": [
        "## Lets see how many types of Jobs are availavle e.g. Contract, fulltime, Permanent "
      ]
    },
    {
      "cell_type": "code",
      "metadata": {
        "colab": {
          "base_uri": "https://localhost:8080/",
          "height": 428
        },
        "id": "GuTY09l9QA_n",
        "outputId": "53b10e5a-c86e-4585-fe62-9cd9a38c7493"
      },
      "source": [
        "data.jobtype.value_counts().plot.bar()"
      ],
      "execution_count": 77,
      "outputs": [
        {
          "output_type": "execute_result",
          "data": {
            "text/plain": [
              "<matplotlib.axes._subplots.AxesSubplot at 0x7f7dd9a73390>"
            ]
          },
          "metadata": {},
          "execution_count": 77
        },
        {
          "output_type": "display_data",
          "data": {
            "image/png": "[encoded data removed]",
            "text/plain": [
              "<Figure size 432x288 with 1 Axes>"
            ]
          },
          "metadata": {
            "needs_background": "light"
          }
        }
      ]
    },
    {
      "cell_type": "code",
      "metadata": {
        "colab": {
          "base_uri": "https://localhost:8080/"
        },
        "id": "EVuRvvpvTY22",
        "outputId": "8ac97213-6c5e-4344-a0ca-b8372d7f26ca"
      },
      "source": [
        "data.jobtype.value_counts()"
      ],
      "execution_count": 16,
      "outputs": [
        {
          "output_type": "execute_result",
          "data": {
            "text/plain": [
              "Permanent,full-time               861\n",
              "Contract,full-time                138\n",
              "Temporary,full-time                18\n",
              "Permanent,full-timeorpart-time      7\n",
              "Permanent,part-time                 1\n",
              "Name: jobtype, dtype: int64"
            ]
          },
          "metadata": {},
          "execution_count": 16
        }
      ]
    },
    {
      "cell_type": "markdown",
      "metadata": {
        "id": "QXKS2Zo0URiY"
      },
      "source": [
        "# **Python or R ?**"
      ]
    },
    {
      "cell_type": "code",
      "metadata": {
        "id": "tAL5khZTQBCN"
      },
      "source": [
        "def entity(val):\n",
        "  try:\n",
        "    language = re.findall(r' python|Python| R ', val)\n",
        "    return language\n",
        "  except:\n",
        "    return \"\""
      ],
      "execution_count": 17,
      "outputs": []
    },
    {
      "cell_type": "code",
      "metadata": {
        "colab": {
          "base_uri": "https://localhost:8080/"
        },
        "id": "EHZJvEObQBEx",
        "outputId": "3c5a4eab-878b-4355-8f52-cf27bcc0a300"
      },
      "source": [
        "language = data.description.apply(entity)\n",
        "language"
      ],
      "execution_count": 18,
      "outputs": [
        {
          "output_type": "execute_result",
          "data": {
            "text/plain": [
              "0                    [ R ]\n",
              "1                         \n",
              "2        [Python,  python]\n",
              "3         [Python, Python]\n",
              "4       [ R , Python,  R ]\n",
              "               ...        \n",
              "1020                    []\n",
              "1021              [Python]\n",
              "1022              [Python]\n",
              "1023              [Python]\n",
              "1024                    []\n",
              "Name: description, Length: 1025, dtype: object"
            ]
          },
          "metadata": {},
          "execution_count": 18
        }
      ]
    },
    {
      "cell_type": "code",
      "metadata": {
        "id": "R4ESo4vJQXy6"
      },
      "source": [
        "lan = []\n",
        "for i in range(len(language)):\n",
        "  a = [lan.strip().lower() for lan in language[i]] \n",
        "  if(len(a)>0):\n",
        "    lan.append(list(set(a)))"
      ],
      "execution_count": 51,
      "outputs": []
    },
    {
      "cell_type": "code",
      "metadata": {
        "colab": {
          "base_uri": "https://localhost:8080/"
        },
        "id": "dhWL0C8_QX1r",
        "outputId": "68a143af-ef1e-49e3-8217-88c5d1954484"
      },
      "source": [
        "len(data.description)"
      ],
      "execution_count": 43,
      "outputs": [
        {
          "output_type": "execute_result",
          "data": {
            "text/plain": [
              "1025"
            ]
          },
          "metadata": {},
          "execution_count": 43
        }
      ]
    },
    {
      "cell_type": "code",
      "metadata": {
        "colab": {
          "base_uri": "https://localhost:8080/"
        },
        "id": "21SzPpGmQX4J",
        "outputId": "d567d567-bb76-4bc9-e19e-1ed99e8f3c79"
      },
      "source": [
        "data.description.isnull().sum()"
      ],
      "execution_count": 44,
      "outputs": [
        {
          "output_type": "execute_result",
          "data": {
            "text/plain": [
              "61"
            ]
          },
          "metadata": {},
          "execution_count": 44
        }
      ]
    },
    {
      "cell_type": "code",
      "metadata": {
        "id": "PBV4KoN8SACc"
      },
      "source": [
        ""
      ],
      "execution_count": 63,
      "outputs": []
    },
    {
      "cell_type": "code",
      "metadata": {
        "id": "o9ooC-ZtUZwO"
      },
      "source": [
        "python = 0 \n",
        "r = 0\n",
        "r_and_python = 0\n",
        "for i in range(len(lan)):\n",
        "  if len(lan[i]) >1:\n",
        "    r_and_python = r_and_python + 1\n",
        "  elif lan[i][0] == 'r':\n",
        "    r = r +1\n",
        "  elif lan[i][0] == 'python':\n",
        "    python = python + 1\n"
      ],
      "execution_count": 70,
      "outputs": []
    },
    {
      "cell_type": "code",
      "metadata": {
        "colab": {
          "base_uri": "https://localhost:8080/"
        },
        "id": "JuUZKgaoXVVF",
        "outputId": "7c7fea24-677b-4732-c0bb-3d799253e09c"
      },
      "source": [
        "print(python)\n",
        "print(r)\n",
        "print(r_and_python)"
      ],
      "execution_count": 71,
      "outputs": [
        {
          "output_type": "stream",
          "name": "stdout",
          "text": [
            "452\n",
            "43\n",
            "67\n"
          ]
        }
      ]
    },
    {
      "cell_type": "code",
      "metadata": {
        "id": "5J1MmQHrZNmB"
      },
      "source": [
        "X = ['Python', 'R', 'Python and R']\n",
        "y = [452, 43, 67]"
      ],
      "execution_count": 72,
      "outputs": []
    },
    {
      "cell_type": "code",
      "metadata": {
        "id": "3BO_iRw5ZhuN"
      },
      "source": [
        "import matplotlib.pyplot as plt\n",
        "import seaborn as sns"
      ],
      "execution_count": 74,
      "outputs": []
    },
    {
      "cell_type": "code",
      "metadata": {
        "colab": {
          "base_uri": "https://localhost:8080/",
          "height": 337
        },
        "id": "ufE_Y2pxZlbC",
        "outputId": "5b8a3425-5cc2-4d37-cbf1-da9bef902e8d"
      },
      "source": [
        "sns.barplot(X, y)"
      ],
      "execution_count": 75,
      "outputs": [
        {
          "output_type": "stream",
          "name": "stderr",
          "text": [
            "/usr/local/lib/python3.7/dist-packages/seaborn/_decorators.py:43: FutureWarning: Pass the following variables as keyword args: x, y. From version 0.12, the only valid positional argument will be `data`, and passing other arguments without an explicit keyword will result in an error or misinterpretation.\n",
            "  FutureWarning\n"
          ]
        },
        {
          "output_type": "execute_result",
          "data": {
            "text/plain": [
              "<matplotlib.axes._subplots.AxesSubplot at 0x7f7dda400d50>"
            ]
          },
          "metadata": {},
          "execution_count": 75
        },
        {
          "output_type": "display_data",
          "data": {
            "image/png": "[encoded data removed]",
            "text/plain": [
              "<Figure size 432x288 with 1 Axes>"
            ]
          },
          "metadata": {
            "needs_background": "light"
          }
        }
      ]
    }
  ]
}